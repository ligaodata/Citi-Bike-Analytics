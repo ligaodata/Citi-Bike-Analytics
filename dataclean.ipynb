{
 "cells": [
  {
   "cell_type": "markdown",
   "metadata": {},
   "source": [
    "## Part I : Unzip tripdata data(201801 to 201812) and concat them into one csv file"
   ]
  },
  {
   "cell_type": "code",
   "execution_count": 4,
   "metadata": {},
   "outputs": [],
   "source": [
    "# Independencies\n",
    "import pandas as pd\n",
    "import zipfile\n",
    "import glob"
   ]
  },
  {
   "cell_type": "code",
   "execution_count": 5,
   "metadata": {},
   "outputs": [
    {
     "data": {
      "text/plain": [
       "['Data/rawdata/2018tripdata\\\\JC-201801-citibike-tripdata.csv.zip',\n",
       " 'Data/rawdata/2018tripdata\\\\JC-201802-citibike-tripdata.csv.zip',\n",
       " 'Data/rawdata/2018tripdata\\\\JC-201803-citibike-tripdata.csv.zip',\n",
       " 'Data/rawdata/2018tripdata\\\\JC-201804-citibike-tripdata.csv.zip',\n",
       " 'Data/rawdata/2018tripdata\\\\JC-201805-citibike-tripdata.csv.zip',\n",
       " 'Data/rawdata/2018tripdata\\\\JC-201806-citibike-tripdata.csv.zip',\n",
       " 'Data/rawdata/2018tripdata\\\\JC-201807-citibike-tripdata.csv.zip',\n",
       " 'Data/rawdata/2018tripdata\\\\JC-201808-citibike-tripdata.csv.zip',\n",
       " 'Data/rawdata/2018tripdata\\\\JC-201809-citibike-tripdata.csv.zip',\n",
       " 'Data/rawdata/2018tripdata\\\\JC-201810-citibike-tripdata.csv.zip',\n",
       " 'Data/rawdata/2018tripdata\\\\JC-201811-citibike-tripdata.csv.zip',\n",
       " 'Data/rawdata/2018tripdata\\\\JC-201812-citibike-tripdata.csv.zip']"
      ]
     },
     "execution_count": 5,
     "metadata": {},
     "output_type": "execute_result"
    }
   ],
   "source": [
    "# Get the file names of all zip files by glob.glob\n",
    "filelist=[filename for filename in glob.glob('Data/rawdata/2018tripdata/*.zip')]\n",
    "filelist"
   ]
  },
  {
   "cell_type": "code",
   "execution_count": 6,
   "metadata": {},
   "outputs": [],
   "source": [
    "# Unzip all the files \n",
    "for filename in filelist:\n",
    "    with zipfile.ZipFile(\"Data/rawdata/2018tripdata/\"+ f'{filename}'[26:], 'r') as myzip:\n",
    "        myzip.extractall(\"Data/rawdata/2018tripdata\")\n",
    "    "
   ]
  },
  {
   "cell_type": "code",
   "execution_count": 7,
   "metadata": {},
   "outputs": [],
   "source": [
    "# Concat the twelve files into one csv file \n",
    "tripdata_2018 = pd.concat([pd.read_csv(file) for file in glob.glob('Data/rawdata/2018tripdata/*.csv')], ignore_index = True)\n"
   ]
  },
  {
   "cell_type": "code",
   "execution_count": 8,
   "metadata": {},
   "outputs": [
    {
     "data": {
      "text/html": [
       "<div>\n",
       "<style scoped>\n",
       "    .dataframe tbody tr th:only-of-type {\n",
       "        vertical-align: middle;\n",
       "    }\n",
       "\n",
       "    .dataframe tbody tr th {\n",
       "        vertical-align: top;\n",
       "    }\n",
       "\n",
       "    .dataframe thead th {\n",
       "        text-align: right;\n",
       "    }\n",
       "</style>\n",
       "<table border=\"1\" class=\"dataframe\">\n",
       "  <thead>\n",
       "    <tr style=\"text-align: right;\">\n",
       "      <th></th>\n",
       "      <th>tripduration</th>\n",
       "      <th>starttime</th>\n",
       "      <th>stoptime</th>\n",
       "      <th>start station id</th>\n",
       "      <th>start station name</th>\n",
       "      <th>start station latitude</th>\n",
       "      <th>start station longitude</th>\n",
       "      <th>end station id</th>\n",
       "      <th>end station name</th>\n",
       "      <th>end station latitude</th>\n",
       "      <th>end station longitude</th>\n",
       "      <th>bikeid</th>\n",
       "      <th>usertype</th>\n",
       "      <th>birth year</th>\n",
       "      <th>gender</th>\n",
       "    </tr>\n",
       "  </thead>\n",
       "  <tbody>\n",
       "    <tr>\n",
       "      <th>353887</th>\n",
       "      <td>1081</td>\n",
       "      <td>2018-12-22 11:51:46.0600</td>\n",
       "      <td>2018-12-22 12:09:47.4730</td>\n",
       "      <td>3694</td>\n",
       "      <td>Jackson Square</td>\n",
       "      <td>40.71113</td>\n",
       "      <td>-74.0789</td>\n",
       "      <td>3269</td>\n",
       "      <td>Brunswick &amp; 6th</td>\n",
       "      <td>40.726012</td>\n",
       "      <td>-74.050389</td>\n",
       "      <td>29586</td>\n",
       "      <td>Subscriber</td>\n",
       "      <td>1993</td>\n",
       "      <td>1</td>\n",
       "    </tr>\n",
       "    <tr>\n",
       "      <th>353888</th>\n",
       "      <td>344</td>\n",
       "      <td>2018-12-25 21:40:09.8660</td>\n",
       "      <td>2018-12-25 21:45:54.2670</td>\n",
       "      <td>3694</td>\n",
       "      <td>Jackson Square</td>\n",
       "      <td>40.71113</td>\n",
       "      <td>-74.0789</td>\n",
       "      <td>3280</td>\n",
       "      <td>Astor Place</td>\n",
       "      <td>40.719282</td>\n",
       "      <td>-74.071262</td>\n",
       "      <td>26241</td>\n",
       "      <td>Subscriber</td>\n",
       "      <td>1983</td>\n",
       "      <td>2</td>\n",
       "    </tr>\n",
       "    <tr>\n",
       "      <th>353889</th>\n",
       "      <td>1233</td>\n",
       "      <td>2018-12-29 12:55:45.9690</td>\n",
       "      <td>2018-12-29 13:16:19.5960</td>\n",
       "      <td>3694</td>\n",
       "      <td>Jackson Square</td>\n",
       "      <td>40.71113</td>\n",
       "      <td>-74.0789</td>\n",
       "      <td>3186</td>\n",
       "      <td>Grove St PATH</td>\n",
       "      <td>40.719586</td>\n",
       "      <td>-74.043117</td>\n",
       "      <td>29294</td>\n",
       "      <td>Subscriber</td>\n",
       "      <td>1988</td>\n",
       "      <td>1</td>\n",
       "    </tr>\n",
       "    <tr>\n",
       "      <th>353890</th>\n",
       "      <td>1057</td>\n",
       "      <td>2018-12-30 15:32:09.3320</td>\n",
       "      <td>2018-12-30 15:49:46.3510</td>\n",
       "      <td>3694</td>\n",
       "      <td>Jackson Square</td>\n",
       "      <td>40.71113</td>\n",
       "      <td>-74.0789</td>\n",
       "      <td>3213</td>\n",
       "      <td>Van Vorst Park</td>\n",
       "      <td>40.718489</td>\n",
       "      <td>-74.047727</td>\n",
       "      <td>29475</td>\n",
       "      <td>Subscriber</td>\n",
       "      <td>1991</td>\n",
       "      <td>2</td>\n",
       "    </tr>\n",
       "    <tr>\n",
       "      <th>353891</th>\n",
       "      <td>301</td>\n",
       "      <td>2018-12-31 16:34:11.9340</td>\n",
       "      <td>2018-12-31 16:39:13.8340</td>\n",
       "      <td>3694</td>\n",
       "      <td>Jackson Square</td>\n",
       "      <td>40.71113</td>\n",
       "      <td>-74.0789</td>\n",
       "      <td>3277</td>\n",
       "      <td>Communipaw &amp; Berry Lane</td>\n",
       "      <td>40.714358</td>\n",
       "      <td>-74.066611</td>\n",
       "      <td>26270</td>\n",
       "      <td>Subscriber</td>\n",
       "      <td>1991</td>\n",
       "      <td>1</td>\n",
       "    </tr>\n",
       "  </tbody>\n",
       "</table>\n",
       "</div>"
      ],
      "text/plain": [
       "        tripduration                 starttime                  stoptime  \\\n",
       "353887          1081  2018-12-22 11:51:46.0600  2018-12-22 12:09:47.4730   \n",
       "353888           344  2018-12-25 21:40:09.8660  2018-12-25 21:45:54.2670   \n",
       "353889          1233  2018-12-29 12:55:45.9690  2018-12-29 13:16:19.5960   \n",
       "353890          1057  2018-12-30 15:32:09.3320  2018-12-30 15:49:46.3510   \n",
       "353891           301  2018-12-31 16:34:11.9340  2018-12-31 16:39:13.8340   \n",
       "\n",
       "        start station id start station name  start station latitude  \\\n",
       "353887              3694     Jackson Square                40.71113   \n",
       "353888              3694     Jackson Square                40.71113   \n",
       "353889              3694     Jackson Square                40.71113   \n",
       "353890              3694     Jackson Square                40.71113   \n",
       "353891              3694     Jackson Square                40.71113   \n",
       "\n",
       "        start station longitude  end station id         end station name  \\\n",
       "353887                 -74.0789            3269          Brunswick & 6th   \n",
       "353888                 -74.0789            3280              Astor Place   \n",
       "353889                 -74.0789            3186            Grove St PATH   \n",
       "353890                 -74.0789            3213           Van Vorst Park   \n",
       "353891                 -74.0789            3277  Communipaw & Berry Lane   \n",
       "\n",
       "        end station latitude  end station longitude  bikeid    usertype  \\\n",
       "353887             40.726012             -74.050389   29586  Subscriber   \n",
       "353888             40.719282             -74.071262   26241  Subscriber   \n",
       "353889             40.719586             -74.043117   29294  Subscriber   \n",
       "353890             40.718489             -74.047727   29475  Subscriber   \n",
       "353891             40.714358             -74.066611   26270  Subscriber   \n",
       "\n",
       "        birth year  gender  \n",
       "353887        1993       1  \n",
       "353888        1983       2  \n",
       "353889        1988       1  \n",
       "353890        1991       2  \n",
       "353891        1991       1  "
      ]
     },
     "execution_count": 8,
     "metadata": {},
     "output_type": "execute_result"
    }
   ],
   "source": [
    "tripdata_2018.tail()"
   ]
  },
  {
   "cell_type": "code",
   "execution_count": 9,
   "metadata": {},
   "outputs": [],
   "source": [
    "# Add age column\n",
    "tripdata_2018[\"Age\"]= 2018 -tripdata_2018[\"birth year\"]"
   ]
  },
  {
   "cell_type": "code",
   "execution_count": 10,
   "metadata": {},
   "outputs": [
    {
     "data": {
      "text/plain": [
       "130    111\n",
       "87      63\n",
       "131     15\n",
       "118      4\n",
       "Name: Age, dtype: int64"
      ]
     },
     "execution_count": 10,
     "metadata": {},
     "output_type": "execute_result"
    }
   ],
   "source": [
    "tripdata_2018[tripdata_2018[\"Age\"]>80]['Age'].value_counts()"
   ]
  },
  {
   "cell_type": "raw",
   "metadata": {},
   "source": [
    "There are 130 riders' age greater than 100, 63 riders' age greater than 87. The infomation might be not be trustworthy,we will filter these data while analyzing."
   ]
  },
  {
   "cell_type": "code",
   "execution_count": 11,
   "metadata": {},
   "outputs": [],
   "source": [
    "tripdata_2018.to_csv(\"Data/cleandata/tripdata_2018.csv\",index=False)"
   ]
  },
  {
   "cell_type": "markdown",
   "metadata": {},
   "source": [
    "## Part II : Concat City Bike Membership Data 2018 Q1-Q4 into one csv file"
   ]
  },
  {
   "cell_type": "code",
   "execution_count": 12,
   "metadata": {},
   "outputs": [],
   "source": [
    "membership_2018 = pd.concat([pd.read_csv(f) for f in glob.glob('Data/rawdata/2018membershipdata/*.csv')], ignore_index = True)\n",
    "membership_2018.to_csv(\"Data/cleandata/membership_2018.csv\",index=False)"
   ]
  },
  {
   "cell_type": "code",
   "execution_count": 13,
   "metadata": {},
   "outputs": [
    {
     "data": {
      "text/html": [
       "<div>\n",
       "<style scoped>\n",
       "    .dataframe tbody tr th:only-of-type {\n",
       "        vertical-align: middle;\n",
       "    }\n",
       "\n",
       "    .dataframe tbody tr th {\n",
       "        vertical-align: top;\n",
       "    }\n",
       "\n",
       "    .dataframe thead th {\n",
       "        text-align: right;\n",
       "    }\n",
       "</style>\n",
       "<table border=\"1\" class=\"dataframe\">\n",
       "  <thead>\n",
       "    <tr style=\"text-align: right;\">\n",
       "      <th></th>\n",
       "      <th>Date</th>\n",
       "      <th>Trips over the past 24-hours (midnight to 11:59pm)</th>\n",
       "      <th>Miles traveled today (midnight to 11:59 pm)</th>\n",
       "      <th>Total Annual Members (All Time)</th>\n",
       "      <th>24-Hour Passes Purchased (midnight to 11:59 pm)</th>\n",
       "      <th>3-Day Passes Purchased (midnight to 11:59 pm)</th>\n",
       "    </tr>\n",
       "  </thead>\n",
       "  <tbody>\n",
       "    <tr>\n",
       "      <th>0</th>\n",
       "      <td>1/1/2018</td>\n",
       "      <td>5499</td>\n",
       "      <td>11483</td>\n",
       "      <td>253490</td>\n",
       "      <td>123</td>\n",
       "      <td>7</td>\n",
       "    </tr>\n",
       "    <tr>\n",
       "      <th>1</th>\n",
       "      <td>1/2/2018</td>\n",
       "      <td>18818</td>\n",
       "      <td>39352</td>\n",
       "      <td>253558</td>\n",
       "      <td>125</td>\n",
       "      <td>12</td>\n",
       "    </tr>\n",
       "    <tr>\n",
       "      <th>2</th>\n",
       "      <td>1/3/2018</td>\n",
       "      <td>24299</td>\n",
       "      <td>42853</td>\n",
       "      <td>253591</td>\n",
       "      <td>164</td>\n",
       "      <td>4</td>\n",
       "    </tr>\n",
       "    <tr>\n",
       "      <th>3</th>\n",
       "      <td>1/4/2018</td>\n",
       "      <td>1922</td>\n",
       "      <td>5328</td>\n",
       "      <td>253604</td>\n",
       "      <td>2</td>\n",
       "      <td>1</td>\n",
       "    </tr>\n",
       "    <tr>\n",
       "      <th>4</th>\n",
       "      <td>1/5/2018</td>\n",
       "      <td>4972</td>\n",
       "      <td>14303</td>\n",
       "      <td>253614</td>\n",
       "      <td>14</td>\n",
       "      <td>0</td>\n",
       "    </tr>\n",
       "  </tbody>\n",
       "</table>\n",
       "</div>"
      ],
      "text/plain": [
       "       Date  Trips over the past 24-hours (midnight to 11:59pm)  \\\n",
       "0  1/1/2018                                               5499    \n",
       "1  1/2/2018                                              18818    \n",
       "2  1/3/2018                                              24299    \n",
       "3  1/4/2018                                               1922    \n",
       "4  1/5/2018                                               4972    \n",
       "\n",
       "   Miles traveled today (midnight to 11:59 pm)  \\\n",
       "0                                        11483   \n",
       "1                                        39352   \n",
       "2                                        42853   \n",
       "3                                         5328   \n",
       "4                                        14303   \n",
       "\n",
       "   Total Annual Members (All Time)  \\\n",
       "0                           253490   \n",
       "1                           253558   \n",
       "2                           253591   \n",
       "3                           253604   \n",
       "4                           253614   \n",
       "\n",
       "   24-Hour Passes Purchased (midnight to 11:59 pm)  \\\n",
       "0                                              123   \n",
       "1                                              125   \n",
       "2                                              164   \n",
       "3                                                2   \n",
       "4                                               14   \n",
       "\n",
       "   3-Day Passes Purchased (midnight to 11:59 pm)  \n",
       "0                                              7  \n",
       "1                                             12  \n",
       "2                                              4  \n",
       "3                                              1  \n",
       "4                                              0  "
      ]
     },
     "execution_count": 13,
     "metadata": {},
     "output_type": "execute_result"
    }
   ],
   "source": [
    "membership_2018.head()"
   ]
  },
  {
   "cell_type": "code",
   "execution_count": 14,
   "metadata": {},
   "outputs": [
    {
     "name": "stdout",
     "output_type": "stream",
     "text": [
      "<class 'pandas.core.frame.DataFrame'>\n",
      "RangeIndex: 365 entries, 0 to 364\n",
      "Data columns (total 6 columns):\n",
      "Date                                                  365 non-null object\n",
      "Trips over the past 24-hours (midnight to 11:59pm)    365 non-null int64\n",
      "Miles traveled today (midnight to 11:59 pm)           365 non-null int64\n",
      "Total Annual Members (All Time)                       365 non-null int64\n",
      "24-Hour Passes Purchased (midnight to 11:59 pm)       365 non-null int64\n",
      "3-Day Passes Purchased (midnight to 11:59 pm)         365 non-null int64\n",
      "dtypes: int64(5), object(1)\n",
      "memory usage: 17.2+ KB\n"
     ]
    }
   ],
   "source": [
    "membership_2018.info()"
   ]
  },
  {
   "cell_type": "code",
   "execution_count": null,
   "metadata": {},
   "outputs": [],
   "source": []
  },
  {
   "cell_type": "code",
   "execution_count": null,
   "metadata": {},
   "outputs": [],
   "source": []
  }
 ],
 "metadata": {
  "kernelspec": {
   "display_name": "Python 3",
   "language": "python",
   "name": "python3"
  },
  "language_info": {
   "codemirror_mode": {
    "name": "ipython",
    "version": 3
   },
   "file_extension": ".py",
   "mimetype": "text/x-python",
   "name": "python",
   "nbconvert_exporter": "python",
   "pygments_lexer": "ipython3",
   "version": "3.7.3"
  }
 },
 "nbformat": 4,
 "nbformat_minor": 2
}
